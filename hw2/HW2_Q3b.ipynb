{
 "cells": [
  {
   "cell_type": "code",
   "execution_count": 0,
   "metadata": {
    "colab": {},
    "colab_type": "code",
    "id": "eijbmvBMZOmP"
   },
   "outputs": [],
   "source": [
    "import pickle\n",
    "import numpy as np\n",
    "import matplotlib.pyplot as plt\n"
   ]
  },
  {
   "cell_type": "markdown",
   "metadata": {},
   "source": [
    "## Hpyerparameter"
   ]
  },
  {
   "cell_type": "code",
   "execution_count": 0,
   "metadata": {
    "colab": {},
    "colab_type": "code",
    "id": "VNCmw8UByxJe"
   },
   "outputs": [],
   "source": [
    "epochs = 10\n",
    "batch_size = 128\n",
    "keep_probability = 0.7\n",
    "learning_rate = 0.001\n",
    "\n",
    "x_valid, y_valid = pickle.load(open('preprocess_validation.p', mode='rb'))"
   ]
  },
  {
   "cell_type": "code",
   "execution_count": 0,
   "metadata": {
    "colab": {},
    "colab_type": "code",
    "id": "TQZWky7gZOna"
   },
   "outputs": [],
   "source": [
    "import tensorflow as tf\n",
    "\n",
    "tf.reset_default_graph()\n",
    "\n",
    "# Inputs\n",
    "x = tf.placeholder(tf.float32, shape=(None, 32, 32, 3), name='input_x')\n",
    "y =  tf.placeholder(tf.float32, shape=(None, 10), name='output_y')\n",
    "keep_prob = tf.placeholder(tf.float32, name='keep_prob')\n"
   ]
  },
  {
   "cell_type": "code",
   "execution_count": 0,
   "metadata": {
    "colab": {},
    "colab_type": "code",
    "id": "AQVwPz5OZOnf"
   },
   "outputs": [],
   "source": [
    "def conv_net(x, keep_prob):\n",
    "    conv1_filter = tf.Variable(tf.truncated_normal(shape=[3, 3, 3, 64], mean=0, stddev=0.08))\n",
    "    conv2_filter = tf.Variable(tf.truncated_normal(shape=[3, 3, 64, 128], mean=0, stddev=0.08))\n",
    "    conv3_filter = tf.Variable(tf.truncated_normal(shape=[5, 5, 128, 256], mean=0, stddev=0.08))\n",
    "    conv4_filter = tf.Variable(tf.truncated_normal(shape=[5, 5, 256, 512], mean=0, stddev=0.08))\n",
    "\n",
    "     # 1, 2\n",
    "    conv1 = tf.nn.conv2d(x, conv1_filter, strides=[1,1,1,1], padding='SAME')\n",
    "    conv1 = tf.nn.relu(conv1)\n",
    "    conv1_pool = tf.nn.max_pool(conv1, ksize=[1,2,2,1], strides=[1,2,2,1], padding='SAME')\n",
    "    conv1_bn = tf.layers.batch_normalization(conv1_pool)\n",
    "\n",
    "    # 3, 4\n",
    "    conv2 = tf.nn.conv2d(conv1_bn, conv2_filter, strides=[1,1,1,1], padding='SAME')\n",
    "    conv2 = tf.nn.relu(conv2)\n",
    "    conv2_pool = tf.nn.max_pool(conv2, ksize=[1,2,2,1], strides=[1,2,2,1], padding='SAME')    \n",
    "    conv2_bn = tf.layers.batch_normalization(conv2_pool)\n",
    "  \n",
    "    # 5, 6\n",
    "    conv3 = tf.nn.conv2d(conv2_bn, conv3_filter, strides=[1,1,1,1], padding='SAME')\n",
    "    conv3 = tf.nn.relu(conv3)\n",
    "    conv3_pool = tf.nn.max_pool(conv3, ksize=[1,2,2,1], strides=[1,2,2,1], padding='SAME')  \n",
    "    conv3_bn = tf.layers.batch_normalization(conv3_pool)\n",
    "    \n",
    "    # 7, 8\n",
    "    conv4 = tf.nn.conv2d(conv3_bn, conv4_filter, strides=[1,1,1,1], padding='SAME')\n",
    "    conv4 = tf.nn.relu(conv4)\n",
    "    conv4_pool = tf.nn.max_pool(conv4, ksize=[1,2,2,1], strides=[1,2,2,1], padding='SAME')\n",
    "    conv4_bn = tf.layers.batch_normalization(conv4_pool)\n",
    "    \n",
    "    # 9\n",
    "    flat = tf.contrib.layers.flatten(conv4_bn)  \n",
    "\n",
    "    # 10\n",
    "    full1 = tf.contrib.layers.fully_connected(inputs=flat, num_outputs=128, activation_fn=tf.nn.relu)\n",
    "    full1 = tf.nn.dropout(full1, keep_prob)\n",
    "    full1 = tf.layers.batch_normalization(full1)\n",
    "    \n",
    "    # 11\n",
    "    full2 = tf.contrib.layers.fully_connected(inputs=full1, num_outputs=256, activation_fn=tf.nn.relu)\n",
    "    full2 = tf.nn.dropout(full2, keep_prob)\n",
    "    full2 = tf.layers.batch_normalization(full2)\n",
    "    \n",
    "    # 12\n",
    "    full3 = tf.contrib.layers.fully_connected(inputs=full2, num_outputs=512, activation_fn=tf.nn.relu)\n",
    "    full3 = tf.nn.dropout(full3, keep_prob)\n",
    "    full3 = tf.layers.batch_normalization(full3)    \n",
    "    \n",
    "    # 13\n",
    "    full4 = tf.contrib.layers.fully_connected(inputs=full3, num_outputs=1024, activation_fn=tf.nn.relu)\n",
    "    full4 = tf.nn.dropout(full4, keep_prob)\n",
    "    full4 = tf.layers.batch_normalization(full4)        \n",
    "    \n",
    "    # 14\n",
    "    out = tf.contrib.layers.fully_connected(inputs=full4, num_outputs=10, activation_fn=None)\n",
    "    return out\n",
    "    "
   ]
  },
  {
   "cell_type": "code",
   "execution_count": 0,
   "metadata": {
    "colab": {},
    "colab_type": "code",
    "id": "fcxaKkUbZOnw"
   },
   "outputs": [],
   "source": [
    "logits = conv_net(x, keep_prob)\n",
    "model = tf.identity(logits, name='logits') # Name logits Tensor, so that can be loaded from disk after training\n",
    "\n",
    "# Loss and Optimizer\n",
    "cost = tf.reduce_mean(tf.nn.softmax_cross_entropy_with_logits(logits=logits, labels=y))\n",
    "optimizer = tf.train.AdamOptimizer(learning_rate=learning_rate).minimize(cost)\n",
    "\n",
    "# Accuracy\n",
    "correct_pred = tf.equal(tf.argmax(logits, 1), tf.argmax(y, 1))\n",
    "accuracy = tf.reduce_mean(tf.cast(correct_pred, tf.float32), name='accuracy')"
   ]
  },
  {
   "cell_type": "code",
   "execution_count": 0,
   "metadata": {
    "colab": {},
    "colab_type": "code",
    "id": "3FQNQnhyZOn6"
   },
   "outputs": [],
   "source": [
    "def train_neural_network(session, optimizer, keep_probability, feature_batch, label_batch):\n",
    "    session.run(optimizer, \n",
    "                feed_dict={\n",
    "                    x: feature_batch,\n",
    "                    y: label_batch,\n",
    "                    keep_prob: keep_probability\n",
    "                })"
   ]
  },
  {
   "cell_type": "code",
   "execution_count": 0,
   "metadata": {
    "colab": {},
    "colab_type": "code",
    "id": "KJK93oxrZOoA"
   },
   "outputs": [],
   "source": [
    "def print_stats(session, feature_batch, label_batch, cost, accuracy):\n",
    "    loss = sess.run(cost, \n",
    "                    feed_dict={\n",
    "                        x: feature_batch,\n",
    "                        y: label_batch,\n",
    "                        keep_prob: 1.\n",
    "                    })\n",
    "    valid_acc = sess.run(accuracy, \n",
    "                         feed_dict={\n",
    "                             x: valid_features,\n",
    "                             y: valid_labels,\n",
    "                             keep_prob: 1.\n",
    "                         })\n",
    "    \n",
    "    print('Loss: {:>10.4f} Validation Accuracy: {:.6f}'.format(loss, valid_acc))"
   ]
  },
  {
   "cell_type": "code",
   "execution_count": 0,
   "metadata": {
    "colab": {},
    "colab_type": "code",
    "id": "zTDij2oCZOoI"
   },
   "outputs": [],
   "source": [
    "def batch_features_labels(features, labels, batch_size):\n",
    "   \n",
    "    for start in range(0, len(features), batch_size):\n",
    "        end = min(start + batch_size, len(features))\n",
    "        yield features[start:end], labels[start:end]\n",
    "\n",
    "def load_preprocess_training_batch(batch_id, batch_size):\n",
    "   \n",
    "    filename = 'preprocess_batch_' + str(batch_id) + '.p'\n",
    "    features, labels = pickle.load(open(filename, mode='rb'))\n",
    "\n",
    "   \n",
    "    return batch_features_labels(features, labels, batch_size)"
   ]
  },
  {
   "cell_type": "code",
   "execution_count": 16,
   "metadata": {
    "colab": {
     "base_uri": "https://localhost:8080/",
     "height": 857
    },
    "colab_type": "code",
    "id": "pyTcxnzlZOoM",
    "outputId": "2f26fcdc-cf3a-49d5-81d7-1e0173f97efd",
    "scrolled": true
   },
   "outputs": [
    {
     "name": "stdout",
     "output_type": "stream",
     "text": [
      "Epoch  1, CIFAR-10 Batch 1:  Loss:     2.2191 Validation Accuracy: 0.180000\n",
      "Epoch  1, CIFAR-10 Batch 2:  Loss:     2.0140 Validation Accuracy: 0.149200\n",
      "Epoch  1, CIFAR-10 Batch 3:  Loss:     1.7256 Validation Accuracy: 0.231600\n",
      "Epoch  1, CIFAR-10 Batch 4:  Loss:     1.7327 Validation Accuracy: 0.310000\n",
      "Epoch  1, CIFAR-10 Batch 5:  Loss:     1.5455 Validation Accuracy: 0.327600\n",
      "Epoch  2, CIFAR-10 Batch 1:  Loss:     1.7235 Validation Accuracy: 0.338600\n",
      "Epoch  2, CIFAR-10 Batch 2:  Loss:     1.5255 Validation Accuracy: 0.373800\n",
      "Epoch  2, CIFAR-10 Batch 3:  Loss:     1.1037 Validation Accuracy: 0.482200\n",
      "Epoch  2, CIFAR-10 Batch 4:  Loss:     1.3239 Validation Accuracy: 0.499600\n",
      "Epoch  2, CIFAR-10 Batch 5:  Loss:     1.0928 Validation Accuracy: 0.570200\n",
      "Epoch  3, CIFAR-10 Batch 1:  Loss:     1.0868 Validation Accuracy: 0.574600\n",
      "Epoch  3, CIFAR-10 Batch 2:  Loss:     0.8060 Validation Accuracy: 0.577400\n",
      "Epoch  3, CIFAR-10 Batch 3:  Loss:     0.6002 Validation Accuracy: 0.603600\n",
      "Epoch  3, CIFAR-10 Batch 4:  Loss:     0.7942 Validation Accuracy: 0.656400\n",
      "Epoch  3, CIFAR-10 Batch 5:  Loss:     0.6068 Validation Accuracy: 0.658600\n",
      "Epoch  4, CIFAR-10 Batch 1:  Loss:     0.6500 Validation Accuracy: 0.679600\n",
      "Epoch  4, CIFAR-10 Batch 2:  Loss:     0.5239 Validation Accuracy: 0.673600\n",
      "Epoch  4, CIFAR-10 Batch 3:  Loss:     0.3614 Validation Accuracy: 0.676400\n",
      "Epoch  4, CIFAR-10 Batch 4:  Loss:     0.5739 Validation Accuracy: 0.686200\n",
      "Epoch  4, CIFAR-10 Batch 5:  Loss:     0.3243 Validation Accuracy: 0.669600\n",
      "Epoch  5, CIFAR-10 Batch 1:  Loss:     0.3348 Validation Accuracy: 0.703000\n",
      "Epoch  5, CIFAR-10 Batch 2:  Loss:     0.2989 Validation Accuracy: 0.713000\n",
      "Epoch  5, CIFAR-10 Batch 3:  Loss:     0.1960 Validation Accuracy: 0.717800\n",
      "Epoch  5, CIFAR-10 Batch 4:  Loss:     0.3607 Validation Accuracy: 0.699800\n",
      "Epoch  5, CIFAR-10 Batch 5:  Loss:     0.0918 Validation Accuracy: 0.704000\n",
      "Epoch  6, CIFAR-10 Batch 1:  Loss:     0.2791 Validation Accuracy: 0.692600\n",
      "Epoch  6, CIFAR-10 Batch 2:  Loss:     0.1844 Validation Accuracy: 0.720400\n",
      "Epoch  6, CIFAR-10 Batch 3:  Loss:     0.0756 Validation Accuracy: 0.726000\n",
      "Epoch  6, CIFAR-10 Batch 4:  Loss:     0.1841 Validation Accuracy: 0.715800\n",
      "Epoch  6, CIFAR-10 Batch 5:  Loss:     0.0653 Validation Accuracy: 0.693800\n",
      "Epoch  7, CIFAR-10 Batch 1:  Loss:     0.2313 Validation Accuracy: 0.737000\n",
      "Epoch  7, CIFAR-10 Batch 2:  Loss:     0.0863 Validation Accuracy: 0.717200\n",
      "Epoch  7, CIFAR-10 Batch 3:  Loss:     0.0693 Validation Accuracy: 0.670600\n",
      "Epoch  7, CIFAR-10 Batch 4:  Loss:     0.1556 Validation Accuracy: 0.720400\n",
      "Epoch  7, CIFAR-10 Batch 5:  Loss:     0.0564 Validation Accuracy: 0.717200\n",
      "Epoch  8, CIFAR-10 Batch 1:  Loss:     0.0832 Validation Accuracy: 0.737200\n",
      "Epoch  8, CIFAR-10 Batch 2:  Loss:     0.0341 Validation Accuracy: 0.729800\n",
      "Epoch  8, CIFAR-10 Batch 3:  Loss:     0.0325 Validation Accuracy: 0.735400\n",
      "Epoch  8, CIFAR-10 Batch 4:  Loss:     0.0813 Validation Accuracy: 0.728000\n",
      "Epoch  8, CIFAR-10 Batch 5:  Loss:     0.0349 Validation Accuracy: 0.725800\n",
      "Epoch  9, CIFAR-10 Batch 1:  Loss:     0.0169 Validation Accuracy: 0.742000\n",
      "Epoch  9, CIFAR-10 Batch 2:  Loss:     0.0324 Validation Accuracy: 0.741200\n",
      "Epoch  9, CIFAR-10 Batch 3:  Loss:     0.0355 Validation Accuracy: 0.728800\n",
      "Epoch  9, CIFAR-10 Batch 4:  Loss:     0.0359 Validation Accuracy: 0.727600\n",
      "Epoch  9, CIFAR-10 Batch 5:  Loss:     0.0228 Validation Accuracy: 0.718400\n",
      "Epoch 10, CIFAR-10 Batch 1:  Loss:     0.0281 Validation Accuracy: 0.717400\n",
      "Epoch 10, CIFAR-10 Batch 2:  Loss:     0.0118 Validation Accuracy: 0.712600\n",
      "Epoch 10, CIFAR-10 Batch 3:  Loss:     0.0198 Validation Accuracy: 0.716200\n",
      "Epoch 10, CIFAR-10 Batch 4:  Loss:     0.0380 Validation Accuracy: 0.721800\n",
      "Epoch 10, CIFAR-10 Batch 5:  Loss:     0.0230 Validation Accuracy: 0.703600\n"
     ]
    }
   ],
   "source": [
    "\n",
    "with tf.Session() as sess:\n",
    "    # Initializing the variables\n",
    "    sess.run(tf.global_variables_initializer())\n",
    "    \n",
    "    # Training cycle\n",
    "    for epoch in range(epochs):\n",
    "        # Loop over all batches\n",
    "        n_batches = 5\n",
    "        for batch_i in range(1, n_batches + 1):\n",
    "            for batch_features, batch_labels in load_preprocess_training_batch(batch_i, batch_size):\n",
    "                train_neural_network(sess, optimizer, keep_probability, batch_features, batch_labels)\n",
    "                \n",
    "            print('Epoch {:>2}, CIFAR-10 Batch {}:  '.format(epoch + 1, batch_i), end='')\n",
    "            print_stats(sess, batch_features, batch_labels, cost, accuracy)\n",
    "            \n",
    "   "
   ]
  },
  {
   "cell_type": "markdown",
   "metadata": {},
   "source": [
    "## Reference \n",
    "\n",
    "This problem is quite challenging to me and I bui\n",
    "https://towardsdatascience.com/cifar-10-image-classification-in-tensorflow-5b501f7dc77c\n"
   ]
  },
  {
   "cell_type": "code",
   "execution_count": null,
   "metadata": {},
   "outputs": [],
   "source": []
  }
 ],
 "metadata": {
  "accelerator": "GPU",
  "colab": {
   "collapsed_sections": [],
   "name": "CIFAR10_image_classification.ipynb",
   "provenance": [],
   "toc_visible": true,
   "version": "0.3.2"
  },
  "kernelspec": {
   "display_name": "Python 3",
   "language": "python",
   "name": "python3"
  },
  "language_info": {
   "codemirror_mode": {
    "name": "ipython",
    "version": 3
   },
   "file_extension": ".py",
   "mimetype": "text/x-python",
   "name": "python",
   "nbconvert_exporter": "python",
   "pygments_lexer": "ipython3",
   "version": "3.7.3"
  }
 },
 "nbformat": 4,
 "nbformat_minor": 1
}
