{
 "cells": [
  {
   "cell_type": "code",
   "execution_count": 46,
   "metadata": {},
   "outputs": [],
   "source": [
    "# import libraries \n",
    "import tensorflow as tf\n",
    "import numpy as np\n",
    "import matplotlib.pyplot as plt"
   ]
  },
  {
   "cell_type": "markdown",
   "metadata": {},
   "source": [
    "<h2>Define Hyper-parameters</h2>"
   ]
  },
  {
   "cell_type": "code",
   "execution_count": 81,
   "metadata": {},
   "outputs": [],
   "source": [
    "#learning rate\n",
    "lr = 0.01\n",
    "#number of traning steps\n",
    "num_steps = 500\n",
    "\n",
    "#network parameters\n",
    "n_hidden_1 = 2 # num hidden nodes in layer 1\n",
    "num_input = 2 # dimension of input vector \n",
    "num_classes = 2 # num of output classes "
   ]
  },
  {
   "cell_type": "markdown",
   "metadata": {},
   "source": [
    "<h2>Define your input data and expected labels</h2>"
   ]
  },
  {
   "cell_type": "code",
   "execution_count": 82,
   "metadata": {},
   "outputs": [
    {
     "name": "stdout",
     "output_type": "stream",
     "text": [
      "[[0. 0.]\n",
      " [1. 0.]\n",
      " [1. 1.]\n",
      " [0. 1.]]\n",
      "[[1. 0.]\n",
      " [0. 1.]\n",
      " [1. 0.]\n",
      " [0. 1.]]\n"
     ]
    }
   ],
   "source": [
    "#define the training input data\n",
    "x = np.array([[0,0],[1,0],[1,1],[0,1]],np.float32)\n",
    "#x = np.transpose(x)\n",
    "#define the target outputs/labels for XOR gate\n",
    "# num_class = 2 \n",
    "y = np.array([[1,0],[0,1],[1,0],[0,1]],np.float32)\n",
    "\n",
    "print(x)\n",
    "print(y)"
   ]
  },
  {
   "cell_type": "markdown",
   "metadata": {},
   "source": [
    "<h2>Define placeholder and Variables</h2>"
   ]
  },
  {
   "cell_type": "code",
   "execution_count": 83,
   "metadata": {},
   "outputs": [],
   "source": [
    "# reset graph \n",
    "tf.reset_default_graph()\n",
    "\n",
    "#tf graph input\n",
    "X = tf.placeholder(tf.float32, shape=[ None , num_input] ,name='X') # place holder for input data \n",
    "Y = tf.placeholder(tf.int32, shape=[ None , num_classes],name='Y') # place holder for labels\n",
    "\n",
    "#Layers weight & bias\n",
    "weights = {\n",
    "    'W1': tf.Variable(tf.random_normal([num_input, n_hidden_1]),name='W1'),\n",
    "    'Wout': tf.Variable(tf.random_normal([n_hidden_1, num_classes]),name='Wout')\n",
    "}\n",
    "\n",
    "biases = {\n",
    "    'b1': tf.Variable(tf.zeros(shape=[n_hidden_1]),name='b1'),  # specific bias b1 for each neuro\n",
    "    'bout': tf.Variable(tf.zeros(shape=[num_classes]),name='bout') # specific bias bout for each class\n",
    "}"
   ]
  },
  {
   "cell_type": "markdown",
   "metadata": {},
   "source": [
    "<h2>Define the neural network</h2>"
   ]
  },
  {
   "cell_type": "code",
   "execution_count": 84,
   "metadata": {},
   "outputs": [],
   "source": [
    "# refer to MNIST tutorial to define multiple layer neural network\n",
    "# add in relu for non-linear activation \n",
    "def neural_net(x):\n",
    "    layer_1_out = tf.nn.relu( tf.add(tf.matmul(x,weights['W1']),biases['b1']) )\n",
    "    out =  tf.add(tf.matmul(layer_1_out,weights['Wout']),biases['bout']) \n",
    "    return out"
   ]
  },
  {
   "cell_type": "markdown",
   "metadata": {},
   "source": [
    "<h2>Define cost function</h2>"
   ]
  },
  {
   "cell_type": "code",
   "execution_count": 85,
   "metadata": {},
   "outputs": [],
   "source": [
    "#predicted labels\n",
    "logits = neural_net(X) # go with real dataset\n",
    "\n",
    "#define loss\n",
    "loss = tf.reduce_mean(tf.nn.softmax_cross_entropy_with_logits_v2(logits=logits,labels=Y),name='loss')\n",
    "#define optimizer\n",
    "optimizer = tf.train.GradientDescentOptimizer(learning_rate=lr)\n",
    "train_op = optimizer.minimize(loss)\n",
    "\n",
    "#compare the predicted labels with true labels\n",
    "correct_pred = tf.equal(tf.argmax(logits,1),tf.argmax(Y,1))\n",
    "\n",
    "#compute the accuracy by taking average\n",
    "accuracy = tf.reduce_mean(tf.cast(correct_pred,tf.float32),name='accuracy')"
   ]
  },
  {
   "cell_type": "markdown",
   "metadata": {},
   "source": [
    "<h2>Execute training</h2>"
   ]
  },
  {
   "cell_type": "code",
   "execution_count": 86,
   "metadata": {
    "scrolled": false
   },
   "outputs": [
    {
     "name": "stdout",
     "output_type": "stream",
     "text": [
      "step 0, Accuracy= 0.250\n",
      "step 10, Accuracy= 0.250\n",
      "step 20, Accuracy= 0.250\n",
      "step 30, Accuracy= 0.250\n",
      "step 40, Accuracy= 0.250\n",
      "step 50, Accuracy= 0.250\n",
      "step 60, Accuracy= 0.250\n",
      "step 70, Accuracy= 0.250\n",
      "step 80, Accuracy= 0.250\n",
      "step 90, Accuracy= 0.250\n",
      "step 100, Accuracy= 0.250\n",
      "step 110, Accuracy= 0.250\n",
      "step 120, Accuracy= 0.250\n",
      "step 130, Accuracy= 0.250\n",
      "step 140, Accuracy= 0.250\n",
      "step 150, Accuracy= 0.250\n",
      "step 160, Accuracy= 0.250\n",
      "step 170, Accuracy= 0.250\n",
      "step 180, Accuracy= 0.250\n",
      "step 190, Accuracy= 0.500\n",
      "step 200, Accuracy= 0.500\n",
      "step 210, Accuracy= 0.750\n",
      "step 220, Accuracy= 0.750\n",
      "step 230, Accuracy= 0.750\n",
      "step 240, Accuracy= 0.750\n",
      "step 250, Accuracy= 0.750\n",
      "step 260, Accuracy= 0.750\n",
      "step 270, Accuracy= 0.750\n",
      "step 280, Accuracy= 0.750\n",
      "step 290, Accuracy= 0.750\n",
      "step 300, Accuracy= 0.750\n",
      "step 310, Accuracy= 0.750\n",
      "step 320, Accuracy= 0.750\n",
      "step 330, Accuracy= 0.750\n",
      "step 340, Accuracy= 0.750\n",
      "step 350, Accuracy= 0.750\n",
      "step 360, Accuracy= 0.750\n",
      "step 370, Accuracy= 0.750\n",
      "step 380, Accuracy= 0.750\n",
      "step 390, Accuracy= 0.750\n",
      "step 400, Accuracy= 0.750\n",
      "step 410, Accuracy= 0.750\n",
      "step 420, Accuracy= 0.750\n",
      "step 430, Accuracy= 0.750\n",
      "step 440, Accuracy= 0.750\n",
      "step 450, Accuracy= 0.750\n",
      "step 460, Accuracy= 0.750\n",
      "step 470, Accuracy= 0.750\n",
      "step 480, Accuracy= 0.750\n",
      "step 490, Accuracy= 0.750\n",
      "Training finished!\n",
      "Testing Accuracy: 0.75\n"
     ]
    }
   ],
   "source": [
    "#Initialize the variables\n",
    "init = tf.global_variables_initializer()\n",
    "\n",
    "acc_fit = np.zeros( num_steps)\n",
    "with tf.Session() as sess:\n",
    "    sess.run(init)\n",
    "    \n",
    "    for i in range(num_steps):        \n",
    "        #run optimization\n",
    "        sess.run(train_op, feed_dict={X:x, Y: y})        \n",
    "        acc_fit[i] = sess.run(accuracy,feed_dict={X:x, Y:y})\n",
    "        if i % 10 == 0:\n",
    "            print(\"step \"+str(i)+\", Accuracy= {:.3f}\".format(acc_fit[i]))\n",
    "    \n",
    "    print(\"Training finished!\")\n",
    "    \n",
    "    print(\"Testing Accuracy:\", sess.run(accuracy, feed_dict={X:x, Y:y}))\n",
    "    \n",
    "    # save weights and bias \n",
    "    weights = (sess.run(weights))\n",
    "    biases = (sess.run(biases))\n",
    "    "
   ]
  },
  {
   "cell_type": "code",
   "execution_count": 110,
   "metadata": {},
   "outputs": [],
   "source": [
    "def neural_net_eval(x):\n",
    "    layer_1_out =  np.matmul(x,weights['W1']) + biases['b1' ] \n",
    "    layer_1_out[layer_1_out >=0] = 1\n",
    "    layer_1_out[layer_1_out <0] = 0\n",
    "    out = np.matmul(layer_1_out,weights['Wout']) + biases['bout']\n",
    "    return out"
   ]
  },
  {
   "cell_type": "markdown",
   "metadata": {},
   "source": [
    "<h2>Plot</h2>"
   ]
  },
  {
   "cell_type": "code",
   "execution_count": 111,
   "metadata": {},
   "outputs": [
    {
     "data": {
      "image/png": "[encoded data removed]",
      "text/plain": [
       "<Figure size 432x288 with 1 Axes>"
      ]
     },
     "metadata": {
      "needs_background": "light"
     },
     "output_type": "display_data"
    }
   ],
   "source": [
    "# plot accuracy \n",
    "plt.plot(acc_fit )\n",
    "plt.xlabel(\"num of steps\")\n",
    "plt.ylabel(\"Accuracy in fitting: % correct fit\")\n",
    "plt.title(\"Accuracy in fitting\")\n",
    "\n",
    "plt.show()"
   ]
  },
  {
   "cell_type": "code",
   "execution_count": 112,
   "metadata": {},
   "outputs": [],
   "source": [
    "colors = [\"pink\", \"blue\" ]\n",
    "\n",
    "# generate grid of x \n",
    "ngrid = 25\n",
    "\n",
    "newx = np.array(np.meshgrid( np.linspace(0,1, ngrid) , np.linspace(0,1, ngrid)  )).T.reshape(-1,2)\n",
    "\n",
    "yhat = np.argmax( neural_net_eval( newx ) , 1) \n",
    "\n",
    "yhat.astype(int)\n",
    "\n",
    "c = []\n",
    "for i in range( yhat.shape[0] ):\n",
    "    c.append(  colors[ yhat[i] ] )\n",
    "    \n"
   ]
  },
  {
   "cell_type": "code",
   "execution_count": 114,
   "metadata": {},
   "outputs": [
    {
     "data": {
      "text/plain": [
       "array([0, 1, 1, 1, 1, 1, 1, 1, 1, 1, 1, 1, 1, 1, 1, 1, 1, 1, 1, 1, 1, 1,\n",
       "       1, 1, 0, 1, 1, 1, 1, 1, 1, 1, 1, 1, 1, 1, 1, 1, 1, 1, 1, 1, 1, 1,\n",
       "       1, 1, 1, 1, 0, 0, 1, 1, 1, 1, 1, 1, 1, 1, 1, 1, 1, 1, 1, 1, 1, 1,\n",
       "       1, 1, 1, 1, 1, 1, 0, 0, 0, 1, 1, 1, 1, 1, 1, 1, 1, 1, 1, 1, 1, 1,\n",
       "       1, 1, 1, 1, 1, 1, 1, 1, 0, 0, 0, 0, 1, 1, 1, 1, 1, 1, 1, 1, 1, 1,\n",
       "       1, 1, 1, 1, 1, 1, 1, 1, 1, 1, 0, 0, 0, 0, 0, 1, 1, 1, 1, 1, 1, 1,\n",
       "       1, 1, 1, 1, 1, 1, 1, 1, 1, 1, 1, 1, 0, 0, 0, 0, 0, 0, 1, 1, 1, 1,\n",
       "       1, 1, 1, 1, 1, 1, 1, 1, 1, 1, 1, 1, 1, 1, 0, 0, 0, 0, 0, 0, 0, 1,\n",
       "       1, 1, 1, 1, 1, 1, 1, 1, 1, 1, 1, 1, 1, 1, 1, 1, 0, 0, 0, 0, 0, 0,\n",
       "       0, 0, 1, 1, 1, 1, 1, 1, 1, 1, 1, 1, 1, 1, 1, 1, 1, 1, 0, 0, 0, 0,\n",
       "       0, 0, 0, 0, 0, 1, 1, 1, 1, 1, 1, 1, 1, 1, 1, 1, 1, 1, 1, 1, 0, 0,\n",
       "       0, 0, 0, 0, 0, 0, 0, 0, 1, 1, 1, 1, 1, 1, 1, 1, 1, 1, 1, 1, 1, 1,\n",
       "       0, 0, 0, 0, 0, 0, 0, 0, 0, 0, 0, 1, 1, 1, 1, 1, 1, 1, 1, 1, 1, 1,\n",
       "       1, 1, 0, 0, 0, 0, 0, 0, 0, 0, 0, 0, 0, 0, 1, 1, 1, 1, 1, 1, 1, 1,\n",
       "       1, 1, 1, 1, 0, 0, 0, 0, 0, 0, 0, 0, 0, 0, 0, 0, 0, 1, 1, 1, 1, 1,\n",
       "       1, 1, 1, 1, 1, 1, 0, 0, 0, 0, 0, 0, 0, 0, 0, 0, 0, 0, 0, 0, 1, 1,\n",
       "       1, 1, 1, 1, 1, 1, 1, 1, 0, 0, 0, 0, 0, 0, 0, 0, 0, 0, 0, 0, 0, 0,\n",
       "       0, 1, 1, 1, 1, 1, 1, 1, 1, 1, 0, 0, 0, 0, 0, 0, 0, 0, 0, 0, 0, 0,\n",
       "       0, 0, 0, 0, 1, 1, 1, 1, 1, 1, 1, 1, 0, 0, 0, 0, 0, 0, 0, 0, 0, 0,\n",
       "       0, 0, 0, 0, 0, 0, 0, 1, 1, 1, 1, 1, 1, 1, 0, 0, 0, 0, 0, 0, 0, 0,\n",
       "       0, 0, 0, 0, 0, 0, 0, 0, 0, 0, 1, 1, 1, 1, 1, 1, 0, 0, 0, 0, 0, 0,\n",
       "       0, 0, 0, 0, 0, 0, 0, 0, 0, 0, 0, 0, 0, 1, 1, 1, 1, 1, 0, 0, 0, 0,\n",
       "       0, 0, 0, 0, 0, 0, 0, 0, 0, 0, 0, 0, 0, 0, 0, 0, 1, 1, 1, 1, 0, 0,\n",
       "       0, 0, 0, 0, 0, 0, 0, 0, 0, 0, 0, 0, 0, 0, 0, 0, 0, 0, 0, 1, 1, 1,\n",
       "       0, 0, 0, 0, 0, 0, 0, 0, 0, 0, 0, 0, 0, 0, 0, 0, 0, 0, 0, 0, 0, 0,\n",
       "       1, 1, 0, 0, 0, 0, 0, 0, 0, 0, 0, 0, 0, 0, 0, 0, 0, 0, 0, 0, 0, 0,\n",
       "       0, 0, 0, 1, 0, 0, 0, 0, 0, 0, 0, 0, 0, 0, 0, 0, 0, 0, 0, 0, 0, 0,\n",
       "       0, 0, 0, 0, 0, 0, 0, 0, 0, 0, 0, 0, 0, 0, 0, 0, 0, 0, 0, 0, 0, 0,\n",
       "       0, 0, 0, 0, 0, 0, 0, 0, 0], dtype=int64)"
      ]
     },
     "execution_count": 114,
     "metadata": {},
     "output_type": "execute_result"
    }
   ],
   "source": [
    "yhat"
   ]
  },
  {
   "cell_type": "code",
   "execution_count": 113,
   "metadata": {},
   "outputs": [],
   "source": [
    "grp = np.array( [0,1,0,1] )"
   ]
  },
  {
   "cell_type": "code",
   "execution_count": 115,
   "metadata": {},
   "outputs": [
    {
     "data": {
      "image/png": "[encoded data removed]",
      "text/plain": [
       "<Figure size 432x288 with 1 Axes>"
      ]
     },
     "metadata": {
      "needs_background": "light"
     },
     "output_type": "display_data"
    }
   ],
   "source": [
    "plt.scatter( newx[:, 0], newx[:, 1], c=c, marker=\".\", s=5)\n",
    "plt.scatter(x[:, 0], x[:, 1], c=np.squeeze(grp), marker=\"X\", s=100, cmap='viridis')\n",
    "plt.show()"
   ]
  }
 ],
 "metadata": {
  "kernelspec": {
   "display_name": "Python 3",
   "language": "python",
   "name": "python3"
  },
  "language_info": {
   "codemirror_mode": {
    "name": "ipython",
    "version": 3
   },
   "file_extension": ".py",
   "mimetype": "text/x-python",
   "name": "python",
   "nbconvert_exporter": "python",
   "pygments_lexer": "ipython3",
   "version": "3.7.3"
  }
 },
 "nbformat": 4,
 "nbformat_minor": 2
}
