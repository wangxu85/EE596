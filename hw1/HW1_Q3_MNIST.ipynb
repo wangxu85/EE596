{
 "cells": [
  {
   "cell_type": "code",
   "execution_count": 1,
   "metadata": {},
   "outputs": [
    {
     "data": {
      "text/html": [
       "<style>.container { width:100% !important; }</style>"
      ],
      "text/plain": [
       "<IPython.core.display.HTML object>"
      ]
     },
     "metadata": {},
     "output_type": "display_data"
    }
   ],
   "source": [
    "from IPython.core.display import display, HTML\n",
    "display(HTML(\"<style>.container { width:100% !important; }</style>\"))"
   ]
  },
  {
   "cell_type": "code",
   "execution_count": 3,
   "metadata": {},
   "outputs": [],
   "source": [
    "import tensorflow as tf\n",
    "old_v = tf.logging.get_verbosity()\n",
    "tf.logging.set_verbosity(tf.logging.ERROR)"
   ]
  },
  {
   "cell_type": "markdown",
   "metadata": {},
   "source": [
    "<h2>Extract MNIST data</h2>"
   ]
  },
  {
   "cell_type": "code",
   "execution_count": 4,
   "metadata": {},
   "outputs": [
    {
     "name": "stdout",
     "output_type": "stream",
     "text": [
      "Extracting MNIST_data/train-images-idx3-ubyte.gz\n",
      "Extracting MNIST_data/train-labels-idx1-ubyte.gz\n",
      "Extracting MNIST_data/t10k-images-idx3-ubyte.gz\n",
      "Extracting MNIST_data/t10k-labels-idx1-ubyte.gz\n"
     ]
    }
   ],
   "source": [
    "from tensorflow.examples.tutorials.mnist import input_data\n",
    "#get mnist data, with one_hot encoding\n",
    "mnist = input_data.read_data_sets(\"MNIST_data/\",one_hot=True)\n",
    "#suppress warnings\n",
    "tf.logging.set_verbosity(old_v)\n"
   ]
  },
  {
   "cell_type": "code",
   "execution_count": 4,
   "metadata": {},
   "outputs": [],
   "source": [
    "#dir(mnist.train)"
   ]
  },
  {
   "cell_type": "code",
   "execution_count": 5,
   "metadata": {},
   "outputs": [
    {
     "name": "stdout",
     "output_type": "stream",
     "text": [
      "[0. 1.]\n"
     ]
    },
    {
     "data": {
      "text/plain": [
       "784"
      ]
     },
     "execution_count": 5,
     "metadata": {},
     "output_type": "execute_result"
    }
   ],
   "source": [
    "#you can print out the label for 1st figure\n",
    "import numpy as np\n",
    "\n",
    "unique, counts = np.unique( mnist.train.labels[0] , return_counts=True)\n",
    "print(unique )\n",
    "mnist.train.images.shape[1]"
   ]
  },
  {
   "cell_type": "code",
   "execution_count": 6,
   "metadata": {},
   "outputs": [],
   "source": [
    "num_train = mnist.train.num_examples #55,000\n",
    "num_validation = mnist.validation.num_examples #5000\n",
    "num_test = mnist.test.num_examples #10,000\n"
   ]
  },
  {
   "cell_type": "markdown",
   "metadata": {},
   "source": [
    "<h2>Set hyperparameters</h2>"
   ]
  },
  {
   "cell_type": "code",
   "execution_count": 7,
   "metadata": {},
   "outputs": [],
   "source": [
    "#learning rate\n",
    "lr = .05\n",
    "#number of traning steps\n",
    "num_steps =5000 # longer fitting model cycles \n",
    "#number of batch_size\n",
    "batch_size = 128 # 128*5 - more training data \n",
    "\n",
    "#network parameters\n",
    "n_hidden_1 = 100 # 100 - reduce over fitting \n",
    "#n_hidden_2 = 200  # do not use another level to reduce over fitting \n",
    "#n_hidden_3 = 300\n",
    "# num_input = mnist.train.images.shape[1] # no. dimensions/pixels for an image\n",
    "num_input = 784\n",
    "num_classes = 10"
   ]
  },
  {
   "cell_type": "code",
   "execution_count": 8,
   "metadata": {},
   "outputs": [],
   "source": [
    "tf.reset_default_graph()"
   ]
  },
  {
   "cell_type": "code",
   "execution_count": 9,
   "metadata": {},
   "outputs": [
    {
     "name": "stdout",
     "output_type": "stream",
     "text": [
      "WARNING:tensorflow:From C:\\Users\\7colorfish\\Anaconda3\\envs\\deeplearning\\lib\\site-packages\\tensorflow\\python\\framework\\op_def_library.py:263: colocate_with (from tensorflow.python.framework.ops) is deprecated and will be removed in a future version.\n",
      "Instructions for updating:\n",
      "Colocations handled automatically by placer.\n"
     ]
    }
   ],
   "source": [
    "#tf graph input\n",
    "X = tf.placeholder(tf.float32,[None,num_input],name='X')\n",
    "Y = tf.placeholder(tf.float32,[None,num_classes],name='Y')\n",
    "\n",
    "#Layers weight & bias\n",
    "weights = {\n",
    "    \n",
    "    'W1': tf.Variable(tf.truncated_normal([num_input, n_hidden_1], stddev=0.1 ),name='W1'),\n",
    "    #'W2': tf.Variable(tf.truncated_normal([n_hidden_1, n_hidden_2], stddev=0.1 ),name='W2'),\n",
    "    #'W3': tf.Variable(tf.random_normal([n_hidden_2, n_hidden_3]),name='W3'),\n",
    "    'Wout': tf.Variable(tf.truncated_normal([n_hidden_1, num_classes]),name='Wout')\n",
    "}\n",
    "\n",
    "biases = {\n",
    "    'b1': tf.Variable(tf.constant(0.1, shape=[n_hidden_1]),name='b1'),\n",
    "    #'b2': tf.Variable(tf.constant(0.1, shape=[n_hidden_2]),name='b2'),\n",
    "   # 'b3': tf.Variable(tf.zeros(shape=[n_hidden_3]),name='b3'),\n",
    "    'bout': tf.Variable(tf.constant(0.1, shape=[num_classes]),name='bout')\n",
    "}"
   ]
  },
  {
   "cell_type": "code",
   "execution_count": 10,
   "metadata": {},
   "outputs": [],
   "source": [
    "#define a neural net model\n",
    "def neural_net(x):\n",
    "    layer_1_out = tf.nn.relu(  tf.add(tf.matmul(x,weights['W1']),biases['b1']) )\n",
    "    #layer_2_out = tf.nn.relu( tf.add(tf.matmul(layer_1_out,weights['W2']),biases['b2']) )\n",
    "    #layer_3_out = tf.nn.relu( tf.add(tf.matmul(layer_2_out,weights['W3']),biases['b3']) )\n",
    "    out = ( tf.add(tf.matmul(layer_1_out,weights['Wout']),biases['bout'])  )\n",
    "\n",
    "    return out\n"
   ]
  },
  {
   "cell_type": "code",
   "execution_count": 49,
   "metadata": {},
   "outputs": [],
   "source": [
    "#help( tf.nn.softmax_cross_entropy_with_logits_v2)"
   ]
  },
  {
   "cell_type": "code",
   "execution_count": 11,
   "metadata": {},
   "outputs": [
    {
     "name": "stdout",
     "output_type": "stream",
     "text": [
      "WARNING:tensorflow:From <ipython-input-11-bf5aa563d119>:5: softmax_cross_entropy_with_logits (from tensorflow.python.ops.nn_ops) is deprecated and will be removed in a future version.\n",
      "Instructions for updating:\n",
      "\n",
      "Future major versions of TensorFlow will allow gradients to flow\n",
      "into the labels input on backprop by default.\n",
      "\n",
      "See `tf.nn.softmax_cross_entropy_with_logits_v2`.\n",
      "\n"
     ]
    }
   ],
   "source": [
    "#predicted labels\n",
    "logits = neural_net(X)\n",
    "\n",
    "#define loss\n",
    "loss = tf.reduce_mean(tf.nn.softmax_cross_entropy_with_logits(logits=logits,labels=Y),name='loss')\n",
    "\n",
    "#define optimizer\n",
    "optimizer = tf.train.GradientDescentOptimizer(learning_rate=lr)\n",
    "train_op = optimizer.minimize(loss)\n",
    "\n",
    "#compare the predicted labels with true labels\n",
    "correct_pred = tf.equal(tf.argmax(logits,1),tf.argmax(Y,1))  \n",
    "\n",
    "#compute the accuracy by taking average\n",
    "accuracy = tf.reduce_mean(tf.cast(correct_pred,tf.float32),name='accuracy')\n",
    "\n",
    "#Initialize the variables\n",
    "init = tf.global_variables_initializer()"
   ]
  },
  {
   "cell_type": "code",
   "execution_count": 12,
   "metadata": {
    "scrolled": false
   },
   "outputs": [
    {
     "name": "stdout",
     "output_type": "stream",
     "text": [
      "step 0, Accuracy= 0.148\n",
      "step 100, Accuracy= 0.891\n",
      "step 200, Accuracy= 0.906\n",
      "step 300, Accuracy= 0.953\n",
      "step 400, Accuracy= 0.945\n",
      "step 500, Accuracy= 0.922\n",
      "step 600, Accuracy= 0.945\n",
      "step 700, Accuracy= 0.977\n",
      "step 800, Accuracy= 0.977\n",
      "step 900, Accuracy= 0.938\n",
      "step 1000, Accuracy= 0.984\n",
      "step 1100, Accuracy= 0.977\n",
      "step 1200, Accuracy= 0.945\n",
      "step 1300, Accuracy= 0.945\n",
      "step 1400, Accuracy= 0.984\n",
      "step 1500, Accuracy= 0.945\n",
      "step 1600, Accuracy= 0.961\n",
      "step 1700, Accuracy= 0.977\n",
      "step 1800, Accuracy= 0.977\n",
      "step 1900, Accuracy= 0.984\n",
      "step 2000, Accuracy= 0.992\n",
      "step 2100, Accuracy= 0.969\n",
      "step 2200, Accuracy= 0.984\n",
      "step 2300, Accuracy= 0.984\n",
      "step 2400, Accuracy= 0.969\n",
      "step 2500, Accuracy= 0.992\n",
      "step 2600, Accuracy= 0.977\n",
      "step 2700, Accuracy= 0.984\n",
      "step 2800, Accuracy= 0.992\n",
      "step 2900, Accuracy= 0.969\n",
      "step 3000, Accuracy= 0.984\n",
      "step 3100, Accuracy= 0.984\n",
      "step 3200, Accuracy= 1.000\n",
      "step 3300, Accuracy= 0.977\n",
      "step 3400, Accuracy= 1.000\n",
      "step 3500, Accuracy= 0.977\n",
      "step 3600, Accuracy= 0.984\n",
      "step 3700, Accuracy= 0.984\n",
      "step 3800, Accuracy= 0.977\n",
      "step 3900, Accuracy= 1.000\n",
      "step 4000, Accuracy= 1.000\n",
      "step 4100, Accuracy= 0.992\n",
      "step 4200, Accuracy= 0.969\n",
      "step 4300, Accuracy= 0.992\n",
      "step 4400, Accuracy= 0.977\n",
      "step 4500, Accuracy= 0.977\n",
      "step 4600, Accuracy= 1.000\n",
      "step 4700, Accuracy= 1.000\n",
      "step 4800, Accuracy= 1.000\n",
      "step 4900, Accuracy= 1.000\n",
      "Training finished!\n",
      "Testing ACcuracy: 0.9653\n"
     ]
    }
   ],
   "source": [
    "with tf.Session() as sess:\n",
    "    sess.run(init)\n",
    "    \n",
    "    for i in range(num_steps):\n",
    "        #fetch batch\n",
    "        batch_x, batch_y = mnist.train.next_batch(batch_size)\n",
    "        #run optimization\n",
    "        sess.run(train_op, feed_dict={X:batch_x, Y:batch_y})\n",
    "        if i % 100 ==0:\n",
    "            acc = sess.run(accuracy,feed_dict={X:batch_x, Y:batch_y})\n",
    "            print(\"step \"+str(i)+\", Accuracy= {:.3f}\".format(acc))\n",
    "    \n",
    "    print(\"Training finished!\")\n",
    "    \n",
    "    print(\"Testing ACcuracy:\", sess.run(accuracy, feed_dict={X:mnist.test.images, Y:mnist.test.labels}))"
   ]
  },
  {
   "cell_type": "markdown",
   "metadata": {},
   "source": [
    "<h2> Thoughts and Finding  </h2>\n",
    "\n",
    "- Nonlinear activation: This is probably the most important change that allows to give a good performance. Here I use ReLu as activation function on the hidden layer. It seems to capture the nonliearn association between the label and the image feature. \n",
    "\n",
    "- Overfitting (no. layers, no. hidden nodes): It is another key aspect to get good performance.With complex NN (i.e. multiple layers 2 or 3 or many nodes in a layer) we may experiment overfitting issue that makes the model fitting well but gives poor predictions\n",
    "\n",
    "- Amount of Training Information (batch size): It seems the amount of data is not a very restriction to this task since when I try small batch size like 32 samples or 1280 both gives >96% accuracy in prediciton. \n",
    "\n",
    "- num of iterations: we need a enough number of training iterations to reach a good prediction performance. E.g. lr =0.05 , num of itertation of 500 is not good comparing to 5000. \n",
    "\n",
    "- learning rate: too large learning rate will not make the numerical optimization approximate the optimal solution well (e.g. lr = 10), but with appropriate learning rate around 0.1 is good. Too small learning rate will need large number of iterations and takes longer time.\n"
   ]
  },
  {
   "cell_type": "code",
   "execution_count": null,
   "metadata": {},
   "outputs": [],
   "source": []
  }
 ],
 "metadata": {
  "kernelspec": {
   "display_name": "Python 3",
   "language": "python",
   "name": "python3"
  },
  "language_info": {
   "codemirror_mode": {
    "name": "ipython",
    "version": 3
   },
   "file_extension": ".py",
   "mimetype": "text/x-python",
   "name": "python",
   "nbconvert_exporter": "python",
   "pygments_lexer": "ipython3",
   "version": "3.7.3"
  }
 },
 "nbformat": 4,
 "nbformat_minor": 2
}
